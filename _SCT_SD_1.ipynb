{
  "nbformat": 4,
  "nbformat_minor": 0,
  "metadata": {
    "colab": {
      "provenance": []
    },
    "kernelspec": {
      "name": "python3",
      "display_name": "Python 3"
    },
    "language_info": {
      "name": "python"
    }
  },
  "cells": [
    {
      "cell_type": "code",
      "source": [
        "def celsius_to_fahrenheit(celsius):\n",
        "  return(celsius*9/5)+32\n",
        "def celsius_to_kelvin(celsius):\n",
        "  return celsius+273.15\n",
        "def fahrenheit_to_celsius(fahrenheit):\n",
        "  return (fahrenheit-32)*5/9\n",
        "def fahrenheit_to_kelvin(fahrenheit):\n",
        "  return(fahrenheit-32)*5/9+273.15\n",
        "def kelvin_to_celsius(kelvin):\n",
        "  return kelvin-273.15\n",
        "def kelvin_to_fahrenheit(kelvin):\n",
        "  return(kelcin-273.15)-9/5+32\n",
        "def convert_temperature(value,from_scale,to_scale):\n",
        "  if from_scale==to_scale:\n",
        "    return value\n",
        "  if from_scale=='C':\n",
        "    if to_scale=='F':\n",
        "      return celsius_to_fahrenheit(value)\n",
        "    elif to_scale=='K':\n",
        "      return celsius_to_kelvin(value)\n",
        "    elif from_scale=='F':\n",
        "       if to_scale=='C':\n",
        "        return fahrenheit_to_celsius(value)\n",
        "    elif to_scale=='K':\n",
        "      return fahrenheit_to_kelvin(value)\n",
        "    elif from_scale=='K':\n",
        "      if to_scale=='C':\n",
        "        return kelvin_to_celsius(value)\n",
        "      elif to_scale=='F':\n",
        "        return kelvin_to_fahrenheit(value)\n",
        "  else:\n",
        "    raise valueError(\"invalid temperature scale\")\n",
        "def main():\n",
        "  print(\"temparature converter\")\n",
        "print(\"enter the temperature value and select the scales\")\n",
        "value=float(input(\"enter the temp value:\"))\n",
        "print(\"choose the source scale:\")\n",
        "print(\"C-celsius,F-fahrenheit,K-kelvin\")\n",
        "from_scale=input(\"source scale(C/F/K:):\").strip().upper()\n",
        "print(\"choose target scale:\")\n",
        "print(\"C-celsius,F-fahrenheit,K-kelvin\")\n",
        "to_scale=input(\"source scale(C/F/K:):\").strip().upper()\n",
        "try:\n",
        "  result=convert_temperature(value,from_scale,to_scale)\n",
        "  print(F\"{value}{from_scale}is equal to {result:.2f}{to_scale}\")\n",
        "except valueError as e:\n",
        "  print(f\"error:{e}\")\n",
        "  main()"
      ],
      "metadata": {
        "colab": {
          "base_uri": "https://localhost:8080/"
        },
        "id": "yXUNrj7cGGqd",
        "outputId": "b8506e7b-f2a8-4fe5-f58c-398dcce52720"
      },
      "execution_count": 16,
      "outputs": [
        {
          "output_type": "stream",
          "name": "stdout",
          "text": [
            "enter the temperature value and select the scales\n",
            "enter the temp value:35\n",
            "choose the source scale:\n",
            "C-celsius,F-fahrenheit,K-kelvin\n",
            "source scale(C/F/K:):c\n",
            "choose target scale:\n",
            "C-celsius,F-fahrenheit,K-kelvin\n",
            "source scale(C/F/K:):k\n",
            "35.0Cis equal to 308.15K\n"
          ]
        }
      ]
    }
  ]
}